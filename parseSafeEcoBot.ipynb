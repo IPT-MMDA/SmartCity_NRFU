{
 "cells": [
  {
   "cell_type": "code",
   "execution_count": 1,
   "id": "e350d21a-bfa0-4410-8580-9b4e6fd950f8",
   "metadata": {},
   "outputs": [],
   "source": [
    "import requests\n",
    "import pandas as pd\n",
    "import csv\n",
    "import os\n",
    "import geopandas as gpd\n",
    "import time\n",
    "from pprint import pprint"
   ]
  },
  {
   "cell_type": "code",
   "execution_count": null,
   "id": "2781923c-fc66-4f69-af37-de8926766c0e",
   "metadata": {},
   "outputs": [],
   "source": [
    "data = gpd.read_file(r\"D:\\work\\НДФУ\\smartcity\\safe\\NEW_DATA\\Points_Kyiv2.shp\")\n"
   ]
  },
  {
   "cell_type": "code",
   "execution_count": null,
   "id": "21b45fd5-819c-4879-9301-4dc77d0ff9f1",
   "metadata": {},
   "outputs": [],
   "source": [
    "for id_value in data[\"ID\"]:\n",
    "    \n",
    "    url = f'https://www.saveecobot.com/api/v1/sensor-archives/{id_value}'\n",
    "    headers = {\n",
    "        \"apikey\": \"hYTHIqWuYqmO15lUFPVS0IuRpt1Wka2x\",\n",
    "    }\n",
    "\n",
    "    response = requests.get(url, headers=headers)\n",
    "    data = response.text.split('\\n')\n",
    "\n",
    "    csv_file = f'sensor_data{id_value}.csv'\n",
    "\n",
    "    with open(csv_file, mode='w', newline='') as file:\n",
    "        writer = csv.DictWriter(file, fieldnames=data[0].split(','))\n",
    "        writer.writeheader()\n",
    "        for line in data[1:]:\n",
    "            if line:\n",
    "                writer.writerow(dict(zip(data[0].split(','), line.split(','))))\n",
    "    time.sleep(1)"
   ]
  },
  {
   "cell_type": "code",
   "execution_count": null,
   "id": "a980ed9c-8967-4091-b16f-9e1ac0cbf80f",
   "metadata": {},
   "outputs": [],
   "source": [
    "for id_value in data[\"ID\"]:\n",
    "    url = f'https://www.saveecobot.com/api/v1/sensor-archives/{id_value}'\n",
    "    headers = {\n",
    "        \"apikey\": \"hYTHIqWuYqmO15lUFPVS0IuRpt1Wka2x\",\n",
    "    }\n",
    "\n",
    "    try:\n",
    "        response = requests.get(url, headers=headers)\n",
    "        data = response.text.split('\\n')\n",
    "\n",
    "        csv_file = f'sensor_data{id_value}.csv'\n",
    "\n",
    "        with open(csv_file, mode='w', newline='') as file:\n",
    "            writer = csv.DictWriter(file, fieldnames=data[0].split(','))\n",
    "            writer.writeheader()\n",
    "            for line in data[1:]:\n",
    "                if line:\n",
    "                    writer.writerow(dict(zip(data[0].split(','), line.split(','))))\n",
    "        time.sleep(1)\n",
    "\n",
    "    except requests.exceptions.RequestException as e:\n",
    "        print(f\"An error occurred for ID {id_value}: {e}\")"
   ]
  },
  {
   "cell_type": "code",
   "execution_count": null,
   "id": "c94cec04-f940-4671-8522-3dad063b875e",
   "metadata": {},
   "outputs": [],
   "source": [
    "url = 'https://www.saveecobot.com/api/v1/sensor-archives/28'\n",
    "headers = {\n",
    "        \"apikey\": \"hYTHIqWuYqmO15lUFPVS0IuRpt1Wka2x\",\n",
    "    }\n",
    "response = requests.get(url, headers=headers)"
   ]
  },
  {
   "cell_type": "code",
   "execution_count": null,
   "id": "3aaf160a-1e4e-4574-a674-e3b3547cfbb6",
   "metadata": {},
   "outputs": [],
   "source": [
    "response.text"
   ]
  },
  {
   "cell_type": "code",
   "execution_count": 3,
   "id": "ad5a9739-4826-43d6-b78b-98f61bc13697",
   "metadata": {},
   "outputs": [],
   "source": [
    "url = f'https://www.saveecobot.com/maps'\n",
    "headers = {\n",
    "    \"apikey\": \"hYTHIqWuYqmO15lUFPVS0IuRpt1Wka2x\",\n",
    "}"
   ]
  },
  {
   "cell_type": "code",
   "execution_count": null,
   "id": "e67cd7d4-c422-4dc8-95d1-ffdee11d8ae4",
   "metadata": {},
   "outputs": [],
   "source": [
    "response = requests.get(url, headers=headers)"
   ]
  },
  {
   "cell_type": "code",
   "execution_count": 12,
   "id": "edfec3b3-8be5-4623-ad1e-dd21e5fd1495",
   "metadata": {},
   "outputs": [],
   "source": [
    "url = 'https://www.saveecobot.com/storage/maps_data.js?date=2023-06-13T1403:36'\n",
    "response = requests.get(url, headers=headers)"
   ]
  },
  {
   "cell_type": "code",
   "execution_count": 14,
   "id": "8be9288e-bcc2-41f6-b7ad-550fbbbbff49",
   "metadata": {},
   "outputs": [],
   "source": [
    "json_data = response.json()"
   ]
  },
  {
   "cell_type": "code",
   "execution_count": 15,
   "id": "ab9a0188-30bc-453e-bce5-d7f3c43cc18c",
   "metadata": {},
   "outputs": [
    {
     "name": "stdout",
     "output_type": "stream",
     "text": [
      "Data appended to CSV file successfully.\n"
     ]
    }
   ],
   "source": [
    "if 'devices' in json_data and isinstance(json_data['devices'], list):\n",
    "    devices = json_data['devices']\n",
    "    \n",
    "    # Append data to the CSV file\n",
    "    with open('outputAll.csv', 'a', newline='') as file:\n",
    "        writer = csv.writer(file)\n",
    "        \n",
    "        # Write the header row if the file is empty\n",
    "        if file.tell() == 0:\n",
    "            header = devices[0].keys()\n",
    "            writer.writerow(header)\n",
    "        \n",
    "        # Write data rows\n",
    "        for device in devices:\n",
    "            writer.writerow(device.values())\n",
    "    \n",
    "    print(\"Data appended to CSV file successfully.\")\n",
    "else:\n",
    "    print(\"No 'devices' key found in the JSON or it is not a list.\")"
   ]
  },
  {
   "cell_type": "code",
   "execution_count": null,
   "id": "0ae8ee18-d703-4f48-853a-9157ce6ab0de",
   "metadata": {},
   "outputs": [],
   "source": []
  },
  {
   "cell_type": "code",
   "execution_count": 7,
   "id": "dbdd584b-57d6-4375-8386-94987adc83b6",
   "metadata": {},
   "outputs": [],
   "source": [
    "import requests\n",
    "url = f'https://www.saveecobot.com/maps/marker.json?marker_id={4}&marker_type=device&pollutant=aqi&pollutant_unit=&is_wide=1&is_iframe=0&is_widget=0&rand=2023-06-13T13-14%3A59'\n",
    "response = requests.get(url, headers=headers)\n",
    "\n"
   ]
  },
  {
   "cell_type": "code",
   "execution_count": 8,
   "id": "44f2eab4-bc18-48b8-899b-e37922595dab",
   "metadata": {},
   "outputs": [
    {
     "data": {
      "text/plain": [
       "200"
      ]
     },
     "execution_count": 8,
     "metadata": {},
     "output_type": "execute_result"
    }
   ],
   "source": [
    "response.status_code"
   ]
  },
  {
   "cell_type": "code",
   "execution_count": 11,
   "id": "70c61b37-cfb9-422a-94e0-5adf66ba848c",
   "metadata": {},
   "outputs": [
    {
     "data": {
      "text/plain": [
       "{'status': 'ok',\n",
       " 'marker_data': {'id': 'device_9'},\n",
       " 'content': '<div class=\"popup popup-aqi popup-pollutant-aqi\" data-id=\"device_9\">\\n\\n    <div class=\"aqi with-units\">\\n        <b style=\" background-color: #bbbbbb\">\\n            33            <i>AQI PM2.5</i>        </b>\\n    </div>\\n\\n    <p class=\"with-aqi title-label\">Даних недостатньо<br/> для обчислення індексу</p>\\n\\n    \\n    <p class=\"with-aqi updated with-icon\"><span class=\"icon\">🕔</span>Останній розрахунок:<br/> 20 квітня 2019, 05:00</p>\\n            <p class=\"with-aqi index with-icon\"><span class=\"icon\">🌍</span> NowCast (US EPA)</p>\\n    \\n    <p class=\"title with-icon\">\\n        <span class=\"icon\">🏙️</span> <strong>вулиця Калинова, 49</strong>\\n        <br/>місто Дніпро,\\n        Дніпропетровська область             </p>\\n\\n    \\n<p class=\"source with-icon\"><span class=\"icon\">📡</span> Дані надано: <a  href=\"https://www.saveecobot.com/platform/save-dnipro\">SaveDnipro</a></p>\\n\\n<div class=\"aqi-chart\" id=\"chartdevice_9\"></div>\\n\\n<div class=\"row-icons  row-icons-social  \">\\n<a title=\"SaveEcoBot у Telegram\" onclick=\" seb.trackBotClick(\\'Telegram\\', \\'popup_device\\'); \" class=\"icon icon-t\" href=\"https://t.me/SaveEcoBot?start=source_maps-air_station_9-ua_uk\" target=\"_blank\"><span>Telegram</span></a>\\n<a title=\"SaveEcoBot у Viber\" onclick=\" seb.trackBotClick(\\'Viber\\', \\'popup_device\\'); \" class=\"icon icon-v\" href=\"viber://pa?chatURI=saveecobot&context=source_maps-air_station_9-ua_uk\" target=\"_blank\"><span>Viber</span></a>\\n\\n\\n<a class=\"details\" href=\"https://www.saveecobot.com/station/9\">Детальна інформація</a>\\n</div>\\n\\n\\n</div>',\n",
       " 'history': {'2023-06-13 17:00:00': False,\n",
       "  '2023-06-13 16:00:00': False,\n",
       "  '2023-06-13 15:00:00': False,\n",
       "  '2023-06-13 14:00:00': False,\n",
       "  '2023-06-13 13:00:00': False,\n",
       "  '2023-06-13 12:00:00': False,\n",
       "  '2023-06-13 11:00:00': False,\n",
       "  '2023-06-13 10:00:00': False,\n",
       "  '2023-06-13 09:00:00': False,\n",
       "  '2023-06-13 08:00:00': False,\n",
       "  '2023-06-13 07:00:00': False,\n",
       "  '2023-06-13 06:00:00': False,\n",
       "  '2023-06-13 05:00:00': False,\n",
       "  '2023-06-13 04:00:00': False,\n",
       "  '2023-06-13 03:00:00': False,\n",
       "  '2023-06-13 02:00:00': False,\n",
       "  '2023-06-13 01:00:00': False,\n",
       "  '2023-06-13 00:00:00': False,\n",
       "  '2023-06-12 23:00:00': False,\n",
       "  '2023-06-12 22:00:00': False,\n",
       "  '2023-06-12 21:00:00': False,\n",
       "  '2023-06-12 20:00:00': False,\n",
       "  '2023-06-12 19:00:00': False,\n",
       "  '2023-06-12 18:00:00': False,\n",
       "  '2023-06-12 17:00:00': False,\n",
       "  '2023-06-12 16:00:00': False,\n",
       "  '2023-06-12 15:00:00': False,\n",
       "  '2023-06-12 14:00:00': False,\n",
       "  '2023-06-12 13:00:00': False,\n",
       "  '2023-06-12 12:00:00': False,\n",
       "  '2023-06-12 11:00:00': False,\n",
       "  '2023-06-12 10:00:00': False,\n",
       "  '2023-06-12 09:00:00': False,\n",
       "  '2023-06-12 08:00:00': False,\n",
       "  '2023-06-12 07:00:00': False,\n",
       "  '2023-06-12 06:00:00': False,\n",
       "  '2023-06-12 05:00:00': False,\n",
       "  '2023-06-12 04:00:00': False,\n",
       "  '2023-06-12 03:00:00': False,\n",
       "  '2023-06-12 02:00:00': False,\n",
       "  '2023-06-12 01:00:00': False,\n",
       "  '2023-06-12 00:00:00': False,\n",
       "  '2023-06-11 23:00:00': False,\n",
       "  '2023-06-11 22:00:00': False,\n",
       "  '2023-06-11 21:00:00': False,\n",
       "  '2023-06-11 20:00:00': False,\n",
       "  '2023-06-11 19:00:00': False,\n",
       "  '2023-06-11 18:00:00': False},\n",
       " 'history_hours': 48}"
      ]
     },
     "execution_count": 11,
     "metadata": {},
     "output_type": "execute_result"
    }
   ],
   "source": [
    "response.json()"
   ]
  },
  {
   "cell_type": "code",
   "execution_count": null,
   "id": "f61b602b-534a-42a4-911e-e4ce827eacdf",
   "metadata": {},
   "outputs": [],
   "source": [
    "\n",
    "\n",
    "json_data = {\n",
    "    'status': 'ok',\n",
    "    'marker_data': {'id': 'device_2'}\n",
    "}\n",
    "\n",
    "if json_data['status'] == 'ok':\n",
    "    id_value = json_data['marker_data']['id']\n",
    "    name_value = 'Your Name'  # Replace 'Your Name' with the actual name value you want to write\n",
    "    \n",
    "    # Create the CSV file and write header\n",
    "    with open('output.csv', 'w', newline='') as file:\n",
    "        writer = csv.DictWriter(file, fieldnames=['Id', 'Name'])\n",
    "        writer.writeheader()\n",
    "        \n",
    "        # Write data to CSV\n",
    "        writer.writerow({'Id': id_value, 'Name': name_value})\n",
    "        \n",
    "    print(\"CSV file created and data written successfully.\")\n",
    "else:\n",
    "    print(\"JSON status is not 'ok'. Skipping CSV creation.\")"
   ]
  },
  {
   "cell_type": "code",
   "execution_count": null,
   "id": "26fbeaf2-b971-4daf-a49e-a816abbaa048",
   "metadata": {},
   "outputs": [],
   "source": [
    "data['marker_data']['id']"
   ]
  },
  {
   "cell_type": "code",
   "execution_count": null,
   "id": "03ffb548-b588-4e23-a21a-1c14cd2412f8",
   "metadata": {},
   "outputs": [],
   "source": [
    "'status' in data"
   ]
  },
  {
   "cell_type": "code",
   "execution_count": 10,
   "id": "09650797-4b43-4ae2-99f6-cad69f68ef1d",
   "metadata": {},
   "outputs": [
    {
     "name": "stdout",
     "output_type": "stream",
     "text": [
      "Data appended to CSV file successfully. 1\n",
      "Data appended to CSV file successfully. 2\n",
      "Data appended to CSV file successfully. 3\n",
      "Data appended to CSV file successfully. 4\n",
      "Data appended to CSV file successfully. 6\n",
      "Data appended to CSV file successfully. 7\n",
      "Data appended to CSV file successfully. 8\n",
      "Data appended to CSV file successfully. 9\n"
     ]
    }
   ],
   "source": [
    "import csv\n",
    "for i in range(1, 10):\n",
    "    url = f'https://www.saveecobot.com/maps/marker.json?marker_id={i}&marker_type=device&pollutant=aqi&pollutant_unit=&is_wide=1&is_iframe=0&is_widget=0&rand=2023-06-13T13-14%3A59'\n",
    "    response = requests.get(url, headers=headers)\n",
    "    if response.status_code == 200:\n",
    "    \n",
    "        data = response.json()\n",
    "\n",
    "\n",
    "\n",
    "        if data['status'] == 'ok':\n",
    "            id_value = i\n",
    "            name_value = data['marker_data']['id']\n",
    "\n",
    "\n",
    "            with open('output.csv', 'a', newline='') as file:\n",
    "                writer = csv.writer(file)\n",
    "                writer.writerow([id_value, name_value])\n",
    "\n",
    "            print(\"Data appended to CSV file successfully.\", i)\n",
    "        else:\n",
    "            print(\"JSON status is not 'ok'. Skipping data appending.\", i)\n",
    "    else:\n",
    "        continue\n",
    "\n",
    "            "
   ]
  },
  {
   "cell_type": "code",
   "execution_count": null,
   "id": "7037a7a0-4188-42d7-8578-cf0c1f844845",
   "metadata": {},
   "outputs": [],
   "source": []
  }
 ],
 "metadata": {
  "kernelspec": {
   "display_name": "Python 3 (ipykernel)",
   "language": "python",
   "name": "python3"
  },
  "language_info": {
   "codemirror_mode": {
    "name": "ipython",
    "version": 3
   },
   "file_extension": ".py",
   "mimetype": "text/x-python",
   "name": "python",
   "nbconvert_exporter": "python",
   "pygments_lexer": "ipython3",
   "version": "3.7.15"
  }
 },
 "nbformat": 4,
 "nbformat_minor": 5
}
